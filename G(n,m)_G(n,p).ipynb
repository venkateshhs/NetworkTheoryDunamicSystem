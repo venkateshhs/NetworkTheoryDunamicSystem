{
 "cells": [
  {
   "cell_type": "code",
   "execution_count": 2,
   "metadata": {},
   "outputs": [
    {
     "name": "stdout",
     "output_type": "stream",
     "text": [
      "Probability of being sampled by G(n,m):  0.0001998001998001998\n"
     ]
    }
   ],
   "source": [
    "#--------------------G(n,m)\n",
    "from math import comb\n",
    "n=6\n",
    "m=6\n",
    "Total_Edges_Possible=comb(n,2)\n",
    "print(\"Probability of being sampled by G(n,m): \",(1/comb(Total_Edges_Possible,m)))\n"
   ]
  },
  {
   "cell_type": "code",
   "execution_count": 3,
   "metadata": {},
   "outputs": [
    {
     "name": "stdout",
     "output_type": "stream",
     "text": [
      "Probability of being sampled by G(n,p):  6.864148550699994e-05\n"
     ]
    }
   ],
   "source": [
    "#--------------------G(n,p)\n",
    "n_=6\n",
    "p=0.3\n",
    "Total_Edges_Possible=comb(n_,2)\n",
    "edges_In_Graph=5   #------------------Input here too\n",
    "print(\"Probability of being sampled by G(n,p): \",((p**edges_In_Graph)*((1-p)**(Total_Edges_Possible-edges_In_Graph))))"
   ]
  },
  {
   "cell_type": "code",
   "execution_count": null,
   "metadata": {},
   "outputs": [],
   "source": []
  }
 ],
 "metadata": {
  "kernelspec": {
   "display_name": "Python 3",
   "language": "python",
   "name": "python3"
  },
  "language_info": {
   "codemirror_mode": {
    "name": "ipython",
    "version": 3
   },
   "file_extension": ".py",
   "mimetype": "text/x-python",
   "name": "python",
   "nbconvert_exporter": "python",
   "pygments_lexer": "ipython3",
   "version": "3.8.5"
  }
 },
 "nbformat": 4,
 "nbformat_minor": 4
}
