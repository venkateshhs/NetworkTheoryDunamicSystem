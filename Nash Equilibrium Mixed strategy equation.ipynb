{
 "cells": [
  {
   "cell_type": "code",
   "execution_count": 1,
   "metadata": {},
   "outputs": [
    {
     "name": "stdout",
     "output_type": "stream",
     "text": [
      "π1A = p\n",
      "π1B = 1-p\n",
      "π2A = q\n",
      "π2B = 1-q\n",
      "Euqation 1 is :  -10 p +  -9 (1-p) =  -1 p +  -13 (1-p)\n",
      "Euqation 1 is :  -4 q +  7 (1-q) =  4 q +  -4 (1-q)\n"
     ]
    }
   ],
   "source": [
    "\n",
    "#--------------Give cell values according to name\n",
    "AA=[-4,-10]\n",
    "AB=[7,-1]\n",
    "\n",
    "BA=[4,-9]\n",
    "BB=[-4,-13]\n",
    "\n",
    "print(\"π1A = p\")\n",
    "print(\"π1B = 1-p\")\n",
    "\n",
    "print(\"π2A = q\")\n",
    "print(\"π2B = 1-q\")\n",
    "\n",
    "print(\"Euqation 1 is : \", AA[1], \"p + \", BA[1], \"(1-p) = \", AB[1], \"p + \", BB[1], \"(1-p)\")\n",
    "print(\"Euqation 1 is : \", AA[0], \"q + \", AB[0], \"(1-q) = \", BA[0], \"q + \", BB[0], \"(1-q)\")\n",
    "\n"
   ]
  },
  {
   "cell_type": "code",
   "execution_count": null,
   "metadata": {},
   "outputs": [],
   "source": []
  }
 ],
 "metadata": {
  "kernelspec": {
   "display_name": "Python 3",
   "language": "python",
   "name": "python3"
  },
  "language_info": {
   "codemirror_mode": {
    "name": "ipython",
    "version": 3
   },
   "file_extension": ".py",
   "mimetype": "text/x-python",
   "name": "python",
   "nbconvert_exporter": "python",
   "pygments_lexer": "ipython3",
   "version": "3.8.5"
  }
 },
 "nbformat": 4,
 "nbformat_minor": 4
}
