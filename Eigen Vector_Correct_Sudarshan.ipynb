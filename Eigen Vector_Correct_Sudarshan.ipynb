{
 "cells": [
  {
   "cell_type": "code",
   "execution_count": 1,
   "metadata": {},
   "outputs": [
    {
     "name": "stdout",
     "output_type": "stream",
     "text": [
      "Outgoing Edges (just adjacency matrix)\n",
      "[0.         0.12216944 0.24433889 0.24433889 0.24433889 0.48867778\n",
      " 0.36650833 0.24433889 0.12216944 0.24433889 0.48867778 0.24433889]\n",
      "Incoming Edges with transpose\n",
      "[0.34188173 0.34188173 0.11396058 0.11396058 0.34188173 0.\n",
      " 0.56980288 0.34188173 0.11396058 0.34188173 0.         0.22792115]\n"
     ]
    }
   ],
   "source": [
    "#Matrix multiplication\n",
    "import numpy as np\n",
    "from numpy.linalg import inv\n",
    "from numpy import linalg as LA\n",
    "#--------------A B C D E F G H I J K L\n",
    "a = np.array([[0,0,0,0,0,0,0,0,0,0,0,0],#A\n",
    "              [1,0,0,0,0,0,0,0,0,0,0,0],#B\n",
    "              [0,1,0,0,0,0,1,0,0,0,0,0],#C\n",
    "              [0,0,1,0,0,0,0,1,0,0,0,0],#D\n",
    "              [1,0,0,0,0,0,0,0,1,0,0,0],#E\n",
    "              [1,1,0,0,1,0,1,0,0,0,0,0],#F\n",
    "              [0,1,0,1,1,0,0,0,0,0,0,0],#G\n",
    "              [0,0,0,0,0,0,1,0,0,0,0,1],#H\n",
    "              [0,0,0,0,0,0,0,0,0,1,0,0],#I\n",
    "              [0,0,0,0,1,0,1,0,0,0,0,0],#J\n",
    "              [0,0,0,0,0,0,1,1,0,1,0,1],#K\n",
    "              [0,0,0,0,0,0,0,1,0,1,0,0]])#L\n",
    "At = a.transpose()\n",
    "\n",
    "\n",
    "##EigenVector Calculation\n",
    "mat_1 = np.array([1,1,1,1,1,1,1,1,1,1,1,1])\n",
    "Nom = np.matmul(a, mat_1)\n",
    "denom = LA.norm(Nom)\n",
    "print(\"Outgoing Edges (just adjacency matrix)\")\n",
    "print(Nom/denom)\n",
    "\n",
    "\n",
    "print(\"Incoming Edges with transpose\")\n",
    "Nom_In = np.matmul(At, mat_1)\n",
    "denom_In = LA.norm(Nom_In)\n",
    "print(Nom_In/denom_In)\n",
    "\n",
    "\n",
    "#For Second iteration\n"
   ]
  },
  {
   "cell_type": "code",
   "execution_count": null,
   "metadata": {},
   "outputs": [],
   "source": []
  },
  {
   "cell_type": "code",
   "execution_count": null,
   "metadata": {},
   "outputs": [],
   "source": []
  },
  {
   "cell_type": "code",
   "execution_count": null,
   "metadata": {},
   "outputs": [],
   "source": []
  }
 ],
 "metadata": {
  "kernelspec": {
   "display_name": "Python 3",
   "language": "python",
   "name": "python3"
  },
  "language_info": {
   "codemirror_mode": {
    "name": "ipython",
    "version": 3
   },
   "file_extension": ".py",
   "mimetype": "text/x-python",
   "name": "python",
   "nbconvert_exporter": "python",
   "pygments_lexer": "ipython3",
   "version": "3.8.5"
  }
 },
 "nbformat": 4,
 "nbformat_minor": 4
}
