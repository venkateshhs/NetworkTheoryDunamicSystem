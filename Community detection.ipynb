{
 "cells": [
  {
   "cell_type": "code",
   "execution_count": 1,
   "metadata": {},
   "outputs": [],
   "source": [
    "\n",
    "#------------------------Optimise Q---------------"
   ]
  },
  {
   "cell_type": "code",
   "execution_count": 2,
   "metadata": {},
   "outputs": [],
   "source": [
    "import math\n",
    "import networkx as nx \n",
    "  \n",
    "G = nx.Graph()\n",
    "#No need to add two edges for undirected edges\n",
    "#--------------------Input Here--------------------------\n",
    "G.add_edges_from([('a', 'b'), ('a', 'e'),('a', 'f'),('b', 'g'),\n",
    "                    ('e', 'b'),\n",
    "                  ('e', 'f'), ('f', 'c'), ('f','g'),\n",
    "                  ('c', 'd'), ('c', 'g'),('c', 'h'),\n",
    "                 ('g', 'd'),('g','h')\n",
    "                 ])"
   ]
  },
  {
   "cell_type": "code",
   "execution_count": 5,
   "metadata": {},
   "outputs": [
    {
     "name": "stdout",
     "output_type": "stream",
     "text": [
      "[['a', 'b'], ['d', 'c']]\n",
      "A: 2\n",
      "B: 12\n",
      "[['h', 'g'], ['f', 'g'], ['f', 'e']]\n",
      "C: 3\n",
      "D: 14\n"
     ]
    },
    {
     "data": {
      "image/png": "[encoded data removed]",
      "text/plain": [
       "<Figure size 432x288 with 1 Axes>"
      ]
     },
     "metadata": {},
     "output_type": "display_data"
    }
   ],
   "source": [
    "\n",
    "nx.draw_networkx(G)\n",
    "\n",
    "#--------------------Input your Two lists here -----------------------------\n",
    "list1=['a','b','c','d']\n",
    "list2=['h','g','e','f']\n",
    "\n",
    "#for list 1-------------------------------------------------------\n",
    "count=0;\n",
    "sum_edges=0;\n",
    "list_append=[]\n",
    "for i in range(len(list1)):\n",
    "    for j in range(len(list1)-1):\n",
    "        if(G.has_edge(list1[i], list1[j]) and [list1[j],list1[i]]  not in list_append):\n",
    "            list_append.append([list1[i],list1[j]])\n",
    "            count=count+1;\n",
    "print(list_append) \n",
    "print(\"A:\",count)\n",
    "for i in list1:\n",
    "    sum_edges+=G.degree(i)\n",
    "print(\"B:\",sum_edges)\n",
    "\n",
    "#for list 2-------------------------------------------------------\n",
    "count_1=0;\n",
    "sum_edges_1=0;\n",
    "list_append_1=[]\n",
    "for i in range(len(list2)):\n",
    "    for j in range(len(list2)-1):\n",
    "        if(G.has_edge(list2[i], list2[j]) and [list2[j],list2[i]]  not in list_append_1):\n",
    "            list_append_1.append([list2[i],list2[j]])\n",
    "            count_1=count_1+1;\n",
    "print(list_append_1) \n",
    "print(\"C:\",count_1)\n",
    "for i in list2:\n",
    "    sum_edges_1+=G.degree(i)\n",
    "print(\"D:\",sum_edges_1)"
   ]
  },
  {
   "cell_type": "code",
   "execution_count": 6,
   "metadata": {},
   "outputs": [
    {
     "name": "stdout",
     "output_type": "stream",
     "text": [
      "-0.11834319526627216\n"
     ]
    }
   ],
   "source": [
    "A=count\n",
    "B=sum_edges\n",
    "C=count_1\n",
    "D=sum_edges_1\n",
    "E=G.number_of_edges()  #Number of Edges in your graph\n",
    "Result=(A/E-(B**2/(2*E)**2))+((C/E-D**2/(2*E)**2))\n",
    "print(Result)"
   ]
  },
  {
   "cell_type": "code",
   "execution_count": null,
   "metadata": {},
   "outputs": [],
   "source": []
  }
 ],
 "metadata": {
  "kernelspec": {
   "display_name": "Python 3",
   "language": "python",
   "name": "python3"
  },
  "language_info": {
   "codemirror_mode": {
    "name": "ipython",
    "version": 3
   },
   "file_extension": ".py",
   "mimetype": "text/x-python",
   "name": "python",
   "nbconvert_exporter": "python",
   "pygments_lexer": "ipython3",
   "version": "3.8.5"
  }
 },
 "nbformat": 4,
 "nbformat_minor": 4
}
