{
 "cells": [
  {
   "cell_type": "code",
   "execution_count": 64,
   "metadata": {},
   "outputs": [
    {
     "name": "stdout",
     "output_type": "stream",
     "text": [
      "1 249 750\n"
     ]
    }
   ],
   "source": [
    "## Network optima\n",
    "min_val=-1\n",
    "current_val=0\n",
    "for a in range(1000):\n",
    "    for b in range(1000-a):\n",
    "        c=1000-a-b\n",
    "        eq1 = 10+5*a+(a/100)\n",
    "        eq2 = 10+5+(b/100)\n",
    "        eq3 = 19.99\n",
    "        current_val = a*eq1+b*eq2+c*eq3\n",
    "        if (min_val<0):\n",
    "            min_val = current_val\n",
    "        else:\n",
    "            if (current_val<min_val):\n",
    "                min_a = a\n",
    "                min_b = b\n",
    "                min_c = c\n",
    "                min_val=current_val\n",
    "print(min_a,min_b,min_c)"
   ]
  },
  {
   "cell_type": "code",
   "execution_count": 2,
   "metadata": {},
   "outputs": [
    {
     "name": "stdout",
     "output_type": "stream",
     "text": [
      "34.99 20.000000000000004 30.01\n",
      "501 498 1\n"
     ]
    }
   ],
   "source": [
    "## Network equilibria\n",
    "min_val=-1\n",
    "current_val=0\n",
    "for a in range(1000):\n",
    "    for b in range(1000-a):\n",
    "        c=1000-a-b\n",
    "        eq1 = 20+5+((a+b)/100)\n",
    "        eq2 = 10+((a+b)/100)+((c+b)/100)\n",
    "        eq3 = 30+((c+b)/100)\n",
    "        #(eq1!=1000) or (eq2 !=1000) or (eq3 !=1000)\n",
    "        if (a+b+c==1000):\n",
    "            current_val = min(abs(eq1-eq2),abs(eq2-eq3),abs(eq3-eq1))\n",
    "        if (min_val<0):\n",
    "            min_val = current_val\n",
    "        else:\n",
    "            if (current_val<min_val):\n",
    "                min_a = a\n",
    "                min_b = b\n",
    "                min_c = c\n",
    "                min_val=current_val\n",
    "print(eq1,eq2,eq3)\n",
    "print(min_a,min_b,min_c)"
   ]
  },
  {
   "cell_type": "code",
   "execution_count": null,
   "metadata": {},
   "outputs": [],
   "source": []
  }
 ],
 "metadata": {
  "kernelspec": {
   "display_name": "Python 3",
   "language": "python",
   "name": "python3"
  },
  "language_info": {
   "codemirror_mode": {
    "name": "ipython",
    "version": 3
   },
   "file_extension": ".py",
   "mimetype": "text/x-python",
   "name": "python",
   "nbconvert_exporter": "python",
   "pygments_lexer": "ipython3",
   "version": "3.8.5"
  }
 },
 "nbformat": 4,
 "nbformat_minor": 4
}
