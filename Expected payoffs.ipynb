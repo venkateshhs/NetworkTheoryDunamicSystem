{
 "cells": [
  {
   "cell_type": "code",
   "execution_count": 1,
   "metadata": {},
   "outputs": [
    {
     "name": "stdout",
     "output_type": "stream",
     "text": [
      "Player 1,E1(π1,π2) :  3.8600000000000003\n",
      "Player 2,E2(π1,π2) :  2.6800000000000006\n"
     ]
    }
   ],
   "source": [
    "#------------------Expected Payoff-----------------------\n",
    "#----------------Probability for player 1\n",
    "p1_A=0.5\n",
    "p1_B=0.3\n",
    "p1_C=0.2         #0 if matrix is 2*2\n",
    "\n",
    "#----------------Probability for player 2\n",
    "p2_A=0.1\n",
    "p2_B=0.6\n",
    "p2_C=0.3     #0 if matrix is 2*2\n",
    "\n",
    "#--------------Give cell values according to name\n",
    "AA=[5,1]\n",
    "AB=[5,2]\n",
    "\n",
    "AC=[4,4]\n",
    "\n",
    "BA=[3,4]\n",
    "BB=[3,3]\n",
    "\n",
    "BC=[4,5]\n",
    "\n",
    "CA=[2,1]\n",
    "CB=[2,1]\n",
    "\n",
    "CC=[4,3]\n",
    "#--------------------------------------\n",
    "total=[]\n",
    "p1_list=[]\n",
    "p1_list.append(p1_A)\n",
    "p1_list.append(p1_B)\n",
    "p1_list.append(p1_C)\n",
    "p2_list=[]\n",
    "p2_list.append(p2_A)\n",
    "p2_list.append(p2_B)\n",
    "p2_list.append(p2_C)\n",
    "total.append(AA)\n",
    "total.append(AB)\n",
    "total.append(AC)\n",
    "total.append(BA)\n",
    "total.append(BB)\n",
    "total.append(BC)\n",
    "total.append(CA)\n",
    "total.append(CB)\n",
    "total.append(CC)\n",
    "total_A=0\n",
    "total_B=0\n",
    "p_list=[]\n",
    "for j in p1_list:\n",
    "    for i in p2_list: \n",
    "        p_list.append([j,i])\n",
    "#print(p_list)\n",
    " \n",
    "for i in range(len(total)):\n",
    "    total_A+=total[i][0]*p_list[i][0]*p_list[i][1]\n",
    "    total_B+=total[i][1]*p_list[i][0]*p_list[i][1]\n",
    "print(\"Player 1,E1(π1,π2) : \",total_A)\n",
    "print(\"Player 2,E2(π1,π2) : \",total_B)"
   ]
  },
  {
   "cell_type": "code",
   "execution_count": null,
   "metadata": {},
   "outputs": [],
   "source": []
  }
 ],
 "metadata": {
  "kernelspec": {
   "display_name": "Python 3",
   "language": "python",
   "name": "python3"
  },
  "language_info": {
   "codemirror_mode": {
    "name": "ipython",
    "version": 3
   },
   "file_extension": ".py",
   "mimetype": "text/x-python",
   "name": "python",
   "nbconvert_exporter": "python",
   "pygments_lexer": "ipython3",
   "version": "3.8.5"
  }
 },
 "nbformat": 4,
 "nbformat_minor": 4
}
