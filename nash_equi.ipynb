{
 "cells": [
  {
   "cell_type": "code",
   "execution_count": 6,
   "metadata": {},
   "outputs": [
    {
     "name": "stdout",
     "output_type": "stream",
     "text": [
      "r1: 18.325 ,r2: 18.33 ,r3: 20\n",
      "a: 665 ,b: 333 ,c: 2\n",
      "r1: 18.33 ,r2: 18.32 ,r3: 20\n",
      "a: 666 ,b: 332 ,c: 2\n",
      "r1: 18.33 ,r2: 18.33 ,r3: 15\n",
      "a: 666 ,b: 333 ,c: 1\n"
     ]
    }
   ],
   "source": [
    "#Enter a b c\n",
    "import math\n",
    "a=665.55\n",
    "b=332.77\n",
    "c=1.665556\n",
    "total=1000\n",
    "a_l=[math.floor(a),math.ceil(a)]\n",
    "b_l=[math.floor(b),math.ceil(b)]\n",
    "c_l=[math.floor(c),math.ceil(c)]\n",
    "\"\"\"\n",
    "route_1=10+5a+0.1*a\n",
    "route_2=10+0.01b+5(b+c)\n",
    "route_3=c+10+5(b+c)\n",
    "\"\"\"\n",
    "for a in a_l:\n",
    "    for b in b_l:\n",
    "        for c in c_l:\n",
    "            if (a+b+c == total):\n",
    "                \"\"\"\n",
    "                r1 = 10+5*a+0.1*a\n",
    "                r2 = 10+0.01*b+5*(b+c)\n",
    "                r3 = c+10+5*(b+c)\n",
    "                \"\"\"\n",
    "                r1 = 10+5+0.005*a\n",
    "                r2 = 10+0.01*b+5\n",
    "                r3 = 5*c+10\n",
    "                print(\"r1:\",r1,\",r2:\",r2,\",r3:\",r3)\n",
    "                print(\"a:\",a,\",b:\",b,\",c:\",c)\n"
   ]
  },
  {
   "cell_type": "code",
   "execution_count": null,
   "metadata": {},
   "outputs": [],
   "source": []
  }
 ],
 "metadata": {
  "kernelspec": {
   "display_name": "Python 3",
   "language": "python",
   "name": "python3"
  },
  "language_info": {
   "codemirror_mode": {
    "name": "ipython",
    "version": 3
   },
   "file_extension": ".py",
   "mimetype": "text/x-python",
   "name": "python",
   "nbconvert_exporter": "python",
   "pygments_lexer": "ipython3",
   "version": "3.8.5"
  }
 },
 "nbformat": 4,
 "nbformat_minor": 4
}
